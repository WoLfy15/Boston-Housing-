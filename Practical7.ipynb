{
 "cells": [
  {
   "cell_type": "markdown",
   "id": "623ea6e9-ae64-443f-946a-bf9a032aa5d0",
   "metadata": {},
   "source": [
    "## KNN REGRESSION WITHOUT USING LIBRARY"
   ]
  },
  {
   "cell_type": "code",
   "execution_count": 21,
   "id": "825dacf5-ea72-464e-bebd-f80c67ed1e3b",
   "metadata": {},
   "outputs": [
    {
     "name": "stdout",
     "output_type": "stream",
     "text": [
      "Size of xtrain: (404, 13)\n",
      "Size of ytrain: (404,)\n",
      "Size of xtest: (102, 13)\n",
      "Size of ytest: (102,)\n"
     ]
    },
    {
     "name": "stdin",
     "output_type": "stream",
     "text": [
      "ENTER THE VALUE OF K:  3\n"
     ]
    },
    {
     "name": "stdout",
     "output_type": "stream",
     "text": [
      "MAE: 3.420306431345178\n",
      "MSE: 22.312251930229085\n",
      "RMSE: 4.723584648360722\n"
     ]
    }
   ],
   "source": [
    "from sklearn.model_selection import train_test_split\n",
    "import numpy as np\n",
    "import pandas as pd\n",
    "\n",
    "data = pd.read_csv(\"BostonHousing.csv\", header=None)\n",
    "data = data[1:].reset_index(drop=True) \n",
    "x = data.iloc[:, :-1].values.astype(float)  \n",
    "y = data.iloc[:, -1].values.astype(float)  \n",
    "\n",
    "xtrain, xtest, ytrain, ytest = train_test_split(x, y, test_size=0.2, random_state=42)\n",
    "\n",
    "print(\"Size of xtrain:\", xtrain.shape)\n",
    "print(\"Size of ytrain:\", ytrain.shape)\n",
    "print(\"Size of xtest:\", xtest.shape)\n",
    "print(\"Size of ytest:\", ytest.shape)\n",
    "\n",
    "k = int(input(\"ENTER THE VALUE OF K: \"))\n",
    "\n",
    "pred = np.zeros(xtest.shape[0])\n",
    "\n",
    "for i in range(xtest.shape[0]):\n",
    "    dist = np.sqrt(np.sum((xtrain - xtest[i])**2, axis=1))\n",
    "    kminind = np.argpartition(dist, k)[:k]\n",
    "    invdist = 1 / (dist[kminind] + 1e-10)  \n",
    "    pred[i] = np.dot(invdist / np.sum(invdist), ytrain[kminind]) \n",
    "\n",
    "\n",
    "mae = np.mean(abs(pred - ytest)) \n",
    "mse = np.mean((pred - ytest) ** 2) \n",
    "rmse = np.sqrt(mse)\n",
    "\n",
    "print(\"MAE:\", mae\n",
    "print(\"MSE:\", mse)\n",
    "print(\"RMSE:\", rmse)"
   ]
  },
  {
   "cell_type": "markdown",
   "id": "7743ce73-2178-4276-8ccd-8cbf961f7472",
   "metadata": {},
   "source": [
    "## KNN REGRESSION USING LIBRARY"
   ]
  },
  {
   "cell_type": "code",
   "execution_count": 28,
   "id": "0f0013ea-c060-49ef-bf4e-09064a18b063",
   "metadata": {},
   "outputs": [
    {
     "name": "stdin",
     "output_type": "stream",
     "text": [
      "Enter the number of the nearest neighbors to be used:  3\n"
     ]
    },
    {
     "name": "stdout",
     "output_type": "stream",
     "text": [
      "MAE: 3.457808034915326\n",
      "MSE: 22.618549072864663\n",
      "RMSE: 4.755896242861556\n"
     ]
    },
    {
     "data": {
      "text/plain": [
       "np.float64(3.457808034915326)"
      ]
     },
     "execution_count": 28,
     "metadata": {},
     "output_type": "execute_result"
    }
   ],
   "source": [
    "import pandas as pd\n",
    "import numpy as np\n",
    "from sklearn.model_selection import train_test_split\n",
    "from sklearn.neighbors import KNeighborsRegressor\n",
    "from sklearn.metrics import mean_absolute_error, mean_squared_error\n",
    "\n",
    "data = pd.read_csv(\"BostonHousing.csv\", header=\"infer\").values\n",
    "x = data[:, :-1].astype(float) \n",
    "y = data[:, -1].astype(int)    \n",
    "xtrain, xtest, ytrain, ytest = train_test_split(x, y, test_size=0.2,random_state=42)\n",
    "k = int(input('Enter the number of the nearest neighbors to be used: '))\n",
    "model=KNeighborsRegressor(n_neighbors=k,weights='distance')\n",
    "model.fit(xtrain,ytrain)\n",
    "pred=model.predict(xtest)\n",
    "mae = mean_absolute_error(ytest, pred)\n",
    "mse = mean_squared_error(ytest, pred)\n",
    "rmse = np.sqrt(mse)\n",
    "print(\"MAE:\", mae)\n",
    "print(\"MSE:\", mse)\n",
    "print(\"RMSE:\", rmse)"
   ]
  },
  {
   "cell_type": "code",
   "execution_count": 27,
   "id": "b6148b33-bf16-4f28-90c1-37941b15c6ab",
   "metadata": {},
   "outputs": [
    {
     "name": "stdin",
     "output_type": "stream",
     "text": [
      "enter the number 13\n"
     ]
    },
    {
     "data": {
      "text/plain": [
       "np.float64(3.8745882859993412)"
      ]
     },
     "execution_count": 27,
     "metadata": {},
     "output_type": "execute_result"
    }
   ],
   "source": [
    "from sklearn.model_selection import train_test_split\n",
    "import numpy as np\n",
    "import pandas as pd\n",
    "\n",
    "data = pd.read_csv(\"BostonHousing.csv\", header=None)\n",
    "data = data[1:].reset_index(drop=True) \n",
    "x = data.iloc[:, :-1].values.astype(float)  \n",
    "y = data.iloc[:, -1].values.astype(float)  \n",
    "\n",
    "xtrain, xtest, ytrain, ytest = train_test_split(x, y, test_size=0.2)\n",
    "\n",
    "k=int(input(\"enter the number\"))\n",
    "\n",
    "dist=np.zeros((xtrain.shape[0]))\n",
    "pred=np.zeros((xtest.shape[0]))\n",
    "\n",
    "for i in range(xtest.shape[0]):\n",
    "    dist=np.sqrt(np.sum((xtrain-xtest[i])**2,axis=1))\n",
    "    ki=np.argpartition(dist,k)[:k]\n",
    "    ind=1/(dist+1e-10)\n",
    "    denom=sum(ind[ki])\n",
    "    pred[i]=np.dot(ind[ki]/denom,ytrain[ki])\n",
    "mae=np.mean(abs(pred-ytest))\n",
    "mae"
   ]
  },
  {
   "cell_type": "code",
   "execution_count": 33,
   "id": "84c1b028-228b-40b3-aead-997fdc8d7c32",
   "metadata": {},
   "outputs": [
    {
     "name": "stdin",
     "output_type": "stream",
     "text": [
      "enter the number 3\n"
     ]
    },
    {
     "ename": "ValueError",
     "evalue": "shapes (404,) and (3,) not aligned: 404 (dim 0) != 3 (dim 0)",
     "output_type": "error",
     "traceback": [
      "\u001b[1;31m---------------------------------------------------------------------------\u001b[0m",
      "\u001b[1;31mValueError\u001b[0m                                Traceback (most recent call last)",
      "Cell \u001b[1;32mIn[33], line 21\u001b[0m\n\u001b[0;32m     19\u001b[0m     kmin\u001b[38;5;241m=\u001b[39mnp\u001b[38;5;241m.\u001b[39margpartition(dist,k)[:k]\n\u001b[0;32m     20\u001b[0m     invd\u001b[38;5;241m=\u001b[39m\u001b[38;5;241m1\u001b[39m\u001b[38;5;241m/\u001b[39m(dist\u001b[38;5;241m+\u001b[39m\u001b[38;5;241m1e-10\u001b[39m)\n\u001b[1;32m---> 21\u001b[0m     pred[i]\u001b[38;5;241m=\u001b[39m\u001b[43mnp\u001b[49m\u001b[38;5;241;43m.\u001b[39;49m\u001b[43mdot\u001b[49m\u001b[43m(\u001b[49m\u001b[43minvd\u001b[49m\u001b[38;5;241;43m/\u001b[39;49m\u001b[43mnp\u001b[49m\u001b[38;5;241;43m.\u001b[39;49m\u001b[43msum\u001b[49m\u001b[43m(\u001b[49m\u001b[43minvd\u001b[49m\u001b[43m[\u001b[49m\u001b[43mkmin\u001b[49m\u001b[43m]\u001b[49m\u001b[43m)\u001b[49m\u001b[43m,\u001b[49m\u001b[43mytrain\u001b[49m\u001b[43m[\u001b[49m\u001b[43mkmin\u001b[49m\u001b[43m]\u001b[49m\u001b[43m)\u001b[49m\n\u001b[0;32m     23\u001b[0m mae\u001b[38;5;241m=\u001b[39mnp\u001b[38;5;241m.\u001b[39mmean(\u001b[38;5;28mabs\u001b[39m(pred\u001b[38;5;241m-\u001b[39mytest))\n\u001b[0;32m     24\u001b[0m mae\n",
      "\u001b[1;31mValueError\u001b[0m: shapes (404,) and (3,) not aligned: 404 (dim 0) != 3 (dim 0)"
     ]
    }
   ],
   "source": [
    "from sklearn.model_selection import train_test_split\n",
    "import numpy as np\n",
    "import pandas as pd\n",
    "\n",
    "data = pd.read_csv(\"BostonHousing.csv\", header=None)\n",
    "data = data[1:].reset_index(drop=True) \n",
    "x = data.iloc[:, :-1].values.astype(float)  \n",
    "y = data.iloc[:, -1].values.astype(float)  \n",
    "\n",
    "xtrain, xtest, ytrain, ytest = train_test_split(x, y, test_size=0.2)\n",
    "\n",
    "k=int(input(\"enter the number\"))\n",
    "\n",
    "dist=np.zeros((xtrain.shape[0]))\n",
    "pred=np.zeros((xtest.shape[0]))\n",
    "\n",
    "for i in range(xtest.shape[0]):\n",
    "    dist=np.sqrt(np.sum((xtrain-xtest[i])**2,axis=1))\n",
    "    kmin=np.argpartition(dist,k)[:k]\n",
    "    invd=1/(dist+1e-10)\n",
    "    pred[i]=np.dot(invd/np.sum(invd),ytrain[kmin])\n",
    "\n",
    "mae=np.mean(abs(pred-ytest))\n",
    "mae"
   ]
  },
  {
   "cell_type": "code",
   "execution_count": null,
   "id": "cdeb4e38-2dd9-4b57-8945-88fb377e761f",
   "metadata": {},
   "outputs": [],
   "source": []
  }
 ],
 "metadata": {
  "kernelspec": {
   "display_name": "Python 3 (ipykernel)",
   "language": "python",
   "name": "python3"
  },
  "language_info": {
   "codemirror_mode": {
    "name": "ipython",
    "version": 3
   },
   "file_extension": ".py",
   "mimetype": "text/x-python",
   "name": "python",
   "nbconvert_exporter": "python",
   "pygments_lexer": "ipython3",
   "version": "3.13.1"
  }
 },
 "nbformat": 4,
 "nbformat_minor": 5
}
